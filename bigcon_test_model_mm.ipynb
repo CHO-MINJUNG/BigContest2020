{
  "nbformat": 4,
  "nbformat_minor": 0,
  "metadata": {
    "colab": {
      "name": "bigcon_test_model_mm.ipynb",
      "provenance": [],
      "collapsed_sections": [],
      "include_colab_link": true
    },
    "kernelspec": {
      "name": "python3",
      "display_name": "Python 3"
    },
    "accelerator": "GPU"
  },
  "cells": [
    {
      "cell_type": "markdown",
      "metadata": {
        "id": "view-in-github",
        "colab_type": "text"
      },
      "source": [
        "<a href=\"https://colab.research.google.com/github/CHO-MINJUNG/BigContest2020/blob/master/bigcon_test_model_mm.ipynb\" target=\"_parent\"><img src=\"https://colab.research.google.com/assets/colab-badge.svg\" alt=\"Open In Colab\"/></a>"
      ]
    },
    {
      "cell_type": "code",
      "metadata": {
        "id": "SIAjkzdYZN_x",
        "colab_type": "code",
        "colab": {}
      },
      "source": [
        "import pandas as pd\n",
        "import numpy as np\n",
        "import matplotlib.pyplot as plt\n",
        "%matplotlib inline"
      ],
      "execution_count": null,
      "outputs": []
    },
    {
      "cell_type": "code",
      "metadata": {
        "id": "-YegWiqQU5uJ",
        "colab_type": "code",
        "colab": {}
      },
      "source": [
        "teamhitter = pd.read_csv('./gdrive/My Drive/빅콘테스트2020/3차_최종_최근_상대_팀타자.csv', encoding='utf-8-sig')"
      ],
      "execution_count": null,
      "outputs": []
    },
    {
      "cell_type": "code",
      "metadata": {
        "id": "OU0-TL44kp_6",
        "colab_type": "code",
        "colab": {
          "base_uri": "https://localhost:8080/",
          "height": 125
        },
        "outputId": "1cdd25bb-bc15-4516-a711-9fb42f4a776c"
      },
      "source": [
        "from google.colab import auth\n",
        "auth.authenticate_user()\n",
        "\n",
        "from google.colab import drive\n",
        "drive.mount('/content/gdrive', force_remount=False)"
      ],
      "execution_count": null,
      "outputs": [
        {
          "output_type": "stream",
          "text": [
            "Go to this URL in a browser: https://accounts.google.com/o/oauth2/auth?client_id=947318989803-6bn6qk8qdgf4n4g3pfee6491hc0brc4i.apps.googleusercontent.com&redirect_uri=urn%3aietf%3awg%3aoauth%3a2.0%3aoob&scope=email%20https%3a%2f%2fwww.googleapis.com%2fauth%2fdocs.test%20https%3a%2f%2fwww.googleapis.com%2fauth%2fdrive%20https%3a%2f%2fwww.googleapis.com%2fauth%2fdrive.photos.readonly%20https%3a%2f%2fwww.googleapis.com%2fauth%2fpeopleapi.readonly&response_type=code\n",
            "\n",
            "Enter your authorization code:\n",
            "··········\n",
            "Mounted at /content/gdrive\n"
          ],
          "name": "stdout"
        }
      ]
    },
    {
      "cell_type": "code",
      "metadata": {
        "id": "qVSC9BG4eG6O",
        "colab_type": "code",
        "colab": {
          "base_uri": "https://localhost:8080/",
          "height": 239
        },
        "outputId": "7b9bdcb0-816a-4530-e726-f186c52fa467"
      },
      "source": [
        "import os\n",
        "from pathlib import Path\n",
        "\n",
        "folder = \"bigcon2020/data\"\n",
        "base_path = Path(\"/content/drive/My Drive/\")\n",
        "project_path = base_path / folder\n",
        "os.chdir(project_path)\n",
        "for x in list(project_path.glob(\"*\")):\n",
        "    if x.is_dir():\n",
        "        dir_name = str(x.relative_to(project_path))\n",
        "        os.rename(dir_name, dir_name.split(\" \", 1)[0])\n",
        "print(f\"현재 디렉토리 위치: {os.getcwd()}\")"
      ],
      "execution_count": null,
      "outputs": [
        {
          "output_type": "error",
          "ename": "FileNotFoundError",
          "evalue": "ignored",
          "traceback": [
            "\u001b[0;31m---------------------------------------------------------------------------\u001b[0m",
            "\u001b[0;31mFileNotFoundError\u001b[0m                         Traceback (most recent call last)",
            "\u001b[0;32m<ipython-input-4-9248a95b69de>\u001b[0m in \u001b[0;36m<module>\u001b[0;34m()\u001b[0m\n\u001b[1;32m      5\u001b[0m \u001b[0mbase_path\u001b[0m \u001b[0;34m=\u001b[0m \u001b[0mPath\u001b[0m\u001b[0;34m(\u001b[0m\u001b[0;34m\"/content/drive/My Drive/\"\u001b[0m\u001b[0;34m)\u001b[0m\u001b[0;34m\u001b[0m\u001b[0;34m\u001b[0m\u001b[0m\n\u001b[1;32m      6\u001b[0m \u001b[0mproject_path\u001b[0m \u001b[0;34m=\u001b[0m \u001b[0mbase_path\u001b[0m \u001b[0;34m/\u001b[0m \u001b[0mfolder\u001b[0m\u001b[0;34m\u001b[0m\u001b[0;34m\u001b[0m\u001b[0m\n\u001b[0;32m----> 7\u001b[0;31m \u001b[0mos\u001b[0m\u001b[0;34m.\u001b[0m\u001b[0mchdir\u001b[0m\u001b[0;34m(\u001b[0m\u001b[0mproject_path\u001b[0m\u001b[0;34m)\u001b[0m\u001b[0;34m\u001b[0m\u001b[0;34m\u001b[0m\u001b[0m\n\u001b[0m\u001b[1;32m      8\u001b[0m \u001b[0;32mfor\u001b[0m \u001b[0mx\u001b[0m \u001b[0;32min\u001b[0m \u001b[0mlist\u001b[0m\u001b[0;34m(\u001b[0m\u001b[0mproject_path\u001b[0m\u001b[0;34m.\u001b[0m\u001b[0mglob\u001b[0m\u001b[0;34m(\u001b[0m\u001b[0;34m\"*\"\u001b[0m\u001b[0;34m)\u001b[0m\u001b[0;34m)\u001b[0m\u001b[0;34m:\u001b[0m\u001b[0;34m\u001b[0m\u001b[0;34m\u001b[0m\u001b[0m\n\u001b[1;32m      9\u001b[0m     \u001b[0;32mif\u001b[0m \u001b[0mx\u001b[0m\u001b[0;34m.\u001b[0m\u001b[0mis_dir\u001b[0m\u001b[0;34m(\u001b[0m\u001b[0;34m)\u001b[0m\u001b[0;34m:\u001b[0m\u001b[0;34m\u001b[0m\u001b[0;34m\u001b[0m\u001b[0m\n",
            "\u001b[0;31mFileNotFoundError\u001b[0m: [Errno 2] No such file or directory: '/content/drive/My Drive/bigcon2020/data'"
          ]
        }
      ]
    },
    {
      "cell_type": "code",
      "metadata": {
        "id": "UZVKsxOzkbK7",
        "colab_type": "code",
        "colab": {
          "base_uri": "https://localhost:8080/",
          "height": 125
        },
        "outputId": "6b5ca31a-116a-4bba-e121-e0093a254067"
      },
      "source": [
        "import tensorflow as tf\n",
        "from tensorflow.keras import layers\n",
        "\n",
        "print('tensorflow version: {}'.format(tf.__version__))\n",
        "print('GPU 사용 가능 여부: {}'.format(tf.test.is_gpu_available()))"
      ],
      "execution_count": null,
      "outputs": [
        {
          "output_type": "stream",
          "text": [
            "tensorflow version: 2.3.0\n",
            "WARNING:tensorflow:From <ipython-input-1-850c82209df6>:5: is_gpu_available (from tensorflow.python.framework.test_util) is deprecated and will be removed in a future version.\n",
            "Instructions for updating:\n",
            "Use `tf.config.list_physical_devices('GPU')` instead.\n",
            "GPU 사용 가능 여부: True\n"
          ],
          "name": "stdout"
        }
      ]
    },
    {
      "cell_type": "code",
      "metadata": {
        "id": "11Kfxs_AlQe6",
        "colab_type": "code",
        "colab": {}
      },
      "source": [
        "batch_size = 9\n",
        "max_epochs = 30\n",
        "learning_rate = 4e-5\n",
        "hidden_sizes = [128, 128]"
      ],
      "execution_count": null,
      "outputs": []
    },
    {
      "cell_type": "code",
      "metadata": {
        "id": "z_KetOnSmDBo",
        "colab_type": "code",
        "colab": {}
      },
      "source": [
        "def preprocess():\n",
        "  # 1차_최종_공통 : 시즌, 홈어웨이, 경기간간격, 득점, 실점, 승패\n",
        "  general = pd.read_csv('1차_최종_공통.csv')\n",
        "  general = general[general['팀코드']=='NC']\n",
        "  general = general[['게임키', '경기간간격','득점','실점','결과']]\n",
        "  general['시즌'] = general['게임키'].apply(lambda x:int(x[:4]))\n",
        "  general['홈어웨이'] = general['게임키'].apply(lambda x:0 if x[-3:-1]=='NC' else 1)\n",
        "  general=general.set_index('게임키')\n",
        "  # 팀타자 : 기준팀 wRC\n",
        "  hitter = pd.read_csv('./1차_최종_팀타자.csv')\n",
        "  hitter_vs = hitter[hitter['상대팀코드']=='NC']\n",
        "  hitter = hitter[hitter['팀코드']=='NC']\n",
        "  hitter = hitter[['게임키', 'wRC']]\n",
        "  hitter_vs = hitter_vs[['게임키', 'wRC']]\n",
        "  hitter=hitter.set_index('게임키')\n",
        "  hitter_vs=hitter_vs.set_index('게임키')\n",
        "  hitter_vs=hitter_vs.add_prefix('vs_')\n",
        "  # 팀투수 : 기준팀, 상대팀 RA/9, whip\n",
        "  pitcher = pd.read_csv('./1차_최종_팀투수.csv')\n",
        "  pitcher_vs = pitcher[pitcher['상대팀코드']=='NC']\n",
        "  pitcher = pitcher[pitcher['팀코드']=='NC']\n",
        "  pitcher = pitcher[['게임키', 'RA/9','whip']]\n",
        "  pitcher_vs = pitcher_vs[['게임키', 'RA/9','whip']]\n",
        "  pitcher = pitcher.set_index('게임키')\n",
        "  pitcher_vs = pitcher_vs.set_index('게임키')\n",
        "  pitcher_vs = pitcher_vs.add_prefix('vs_')\n",
        "  df = pd.concat([general, hitter,hitter_vs, pitcher,pitcher_vs], axis=1)\n",
        "  df= df[['시즌','경기간간격','홈어웨이','wRC','vs_wRC','RA/9','whip','vs_RA/9','vs_whip','득점','실점','결과']]\n",
        "  df['결과'] = df['결과'].apply(lambda x : 0 if x =='W' else 1)\n",
        "  return df"
      ],
      "execution_count": null,
      "outputs": []
    },
    {
      "cell_type": "code",
      "metadata": {
        "id": "zCovnOmGt_tp",
        "colab_type": "code",
        "colab": {
          "base_uri": "https://localhost:8080/",
          "height": 225
        },
        "outputId": "bdbd749d-9f74-4b8e-b784-6448f0853abe"
      },
      "source": [
        "df = preprocess()\n",
        "df.head()"
      ],
      "execution_count": null,
      "outputs": [
        {
          "output_type": "execute_result",
          "data": {
            "text/html": [
              "<div>\n",
              "<style scoped>\n",
              "    .dataframe tbody tr th:only-of-type {\n",
              "        vertical-align: middle;\n",
              "    }\n",
              "\n",
              "    .dataframe tbody tr th {\n",
              "        vertical-align: top;\n",
              "    }\n",
              "\n",
              "    .dataframe thead th {\n",
              "        text-align: right;\n",
              "    }\n",
              "</style>\n",
              "<table border=\"1\" class=\"dataframe\">\n",
              "  <thead>\n",
              "    <tr style=\"text-align: right;\">\n",
              "      <th></th>\n",
              "      <th>시즌</th>\n",
              "      <th>경기간간격</th>\n",
              "      <th>홈어웨이</th>\n",
              "      <th>wRC</th>\n",
              "      <th>vs_wRC</th>\n",
              "      <th>RA/9</th>\n",
              "      <th>whip</th>\n",
              "      <th>vs_RA/9</th>\n",
              "      <th>vs_whip</th>\n",
              "      <th>득점</th>\n",
              "      <th>실점</th>\n",
              "      <th>결과</th>\n",
              "    </tr>\n",
              "    <tr>\n",
              "      <th>게임키</th>\n",
              "      <th></th>\n",
              "      <th></th>\n",
              "      <th></th>\n",
              "      <th></th>\n",
              "      <th></th>\n",
              "      <th></th>\n",
              "      <th></th>\n",
              "      <th></th>\n",
              "      <th></th>\n",
              "      <th></th>\n",
              "      <th></th>\n",
              "      <th></th>\n",
              "    </tr>\n",
              "  </thead>\n",
              "  <tbody>\n",
              "    <tr>\n",
              "      <th>20160401HTNC0</th>\n",
              "      <td>2016</td>\n",
              "      <td>0.0</td>\n",
              "      <td>0</td>\n",
              "      <td>0.000</td>\n",
              "      <td>0.000</td>\n",
              "      <td>0.000</td>\n",
              "      <td>0.000</td>\n",
              "      <td>0.000</td>\n",
              "      <td>0.000</td>\n",
              "      <td>5</td>\n",
              "      <td>4</td>\n",
              "      <td>0</td>\n",
              "    </tr>\n",
              "    <tr>\n",
              "      <th>20160402HTNC0</th>\n",
              "      <td>2016</td>\n",
              "      <td>1.0</td>\n",
              "      <td>0</td>\n",
              "      <td>7.039</td>\n",
              "      <td>4.188</td>\n",
              "      <td>4.000</td>\n",
              "      <td>1.222</td>\n",
              "      <td>5.625</td>\n",
              "      <td>1.750</td>\n",
              "      <td>3</td>\n",
              "      <td>4</td>\n",
              "      <td>1</td>\n",
              "    </tr>\n",
              "    <tr>\n",
              "      <th>20160405NCOB0</th>\n",
              "      <td>2016</td>\n",
              "      <td>3.0</td>\n",
              "      <td>1</td>\n",
              "      <td>9.400</td>\n",
              "      <td>12.440</td>\n",
              "      <td>4.000</td>\n",
              "      <td>1.333</td>\n",
              "      <td>5.824</td>\n",
              "      <td>1.647</td>\n",
              "      <td>2</td>\n",
              "      <td>6</td>\n",
              "      <td>1</td>\n",
              "    </tr>\n",
              "    <tr>\n",
              "      <th>20160406NCOB0</th>\n",
              "      <td>2016</td>\n",
              "      <td>1.0</td>\n",
              "      <td>1</td>\n",
              "      <td>10.757</td>\n",
              "      <td>18.658</td>\n",
              "      <td>4.846</td>\n",
              "      <td>1.423</td>\n",
              "      <td>4.500</td>\n",
              "      <td>1.462</td>\n",
              "      <td>0</td>\n",
              "      <td>2</td>\n",
              "      <td>1</td>\n",
              "    </tr>\n",
              "    <tr>\n",
              "      <th>20160407NCOB0</th>\n",
              "      <td>2016</td>\n",
              "      <td>1.0</td>\n",
              "      <td>1</td>\n",
              "      <td>7.610</td>\n",
              "      <td>19.111</td>\n",
              "      <td>4.235</td>\n",
              "      <td>1.265</td>\n",
              "      <td>3.343</td>\n",
              "      <td>1.171</td>\n",
              "      <td>8</td>\n",
              "      <td>2</td>\n",
              "      <td>0</td>\n",
              "    </tr>\n",
              "  </tbody>\n",
              "</table>\n",
              "</div>"
            ],
            "text/plain": [
              "                 시즌  경기간간격  홈어웨이     wRC  vs_wRC  ...  vs_RA/9  vs_whip  득점  실점  결과\n",
              "게임키                                               ...                              \n",
              "20160401HTNC0  2016    0.0     0   0.000   0.000  ...    0.000    0.000   5   4   0\n",
              "20160402HTNC0  2016    1.0     0   7.039   4.188  ...    5.625    1.750   3   4   1\n",
              "20160405NCOB0  2016    3.0     1   9.400  12.440  ...    5.824    1.647   2   6   1\n",
              "20160406NCOB0  2016    1.0     1  10.757  18.658  ...    4.500    1.462   0   2   1\n",
              "20160407NCOB0  2016    1.0     1   7.610  19.111  ...    3.343    1.171   8   2   0\n",
              "\n",
              "[5 rows x 12 columns]"
            ]
          },
          "metadata": {
            "tags": []
          },
          "execution_count": 212
        }
      ]
    },
    {
      "cell_type": "code",
      "metadata": {
        "id": "j1ItDAm2LEXL",
        "colab_type": "code",
        "colab": {
          "base_uri": "https://localhost:8080/",
          "height": 351
        },
        "outputId": "2412092f-bc40-463d-e761-caf943618f7f"
      },
      "source": [
        "df.info()"
      ],
      "execution_count": null,
      "outputs": [
        {
          "output_type": "stream",
          "text": [
            "<class 'pandas.core.frame.DataFrame'>\n",
            "Index: 639 entries, 20160401HTNC0 to 20200719KTNC0\n",
            "Data columns (total 12 columns):\n",
            " #   Column   Non-Null Count  Dtype  \n",
            "---  ------   --------------  -----  \n",
            " 0   시즌       639 non-null    int64  \n",
            " 1   경기간간격    639 non-null    float64\n",
            " 2   홈어웨이     639 non-null    int64  \n",
            " 3   wRC      639 non-null    float64\n",
            " 4   vs_wRC   639 non-null    float64\n",
            " 5   RA/9     639 non-null    float64\n",
            " 6   whip     639 non-null    float64\n",
            " 7   vs_RA/9  639 non-null    float64\n",
            " 8   vs_whip  639 non-null    float64\n",
            " 9   득점       639 non-null    int64  \n",
            " 10  실점       639 non-null    int64  \n",
            " 11  결과       639 non-null    int64  \n",
            "dtypes: float64(7), int64(5)\n",
            "memory usage: 64.9+ KB\n"
          ],
          "name": "stdout"
        }
      ]
    },
    {
      "cell_type": "code",
      "metadata": {
        "id": "k9w9YuN34T5k",
        "colab_type": "code",
        "colab": {}
      },
      "source": [
        "def normalization(df, columns, mode='z'):\n",
        "  if mode == 'm' :\n",
        "    for colname in columns:\n",
        "      df[colname] = (df[colname] - df[colname].min())/(df[colname].max()-df[colname].min())\n",
        "    return df\n",
        "  if mode == 'z' :\n",
        "    for colname in columns:\n",
        "      df[colname] = (df[colname] - df[colname].mean())/df[colname].std()\n",
        "    return df"
      ],
      "execution_count": null,
      "outputs": []
    },
    {
      "cell_type": "code",
      "metadata": {
        "id": "-DUeCf8K4XLO",
        "colab_type": "code",
        "colab": {}
      },
      "source": [
        "# df = normalization(df,['경기간간격', 'wRC', 'vs_wRC', 'RA/9', 'whip', 'vs_RA/9', 'vs_whip', '득점', '실점'],mode =\"m\")\n",
        "df = normalization(df,['경기간간격', 'wRC', 'vs_wRC', 'RA/9', 'whip', 'vs_RA/9', 'vs_whip', '득점', '실점'],mode =\"z\")"
      ],
      "execution_count": null,
      "outputs": []
    },
    {
      "cell_type": "code",
      "metadata": {
        "id": "crHZVoOCHvbP",
        "colab_type": "code",
        "colab": {}
      },
      "source": [
        "train_data= np.asarray(df[(df['시즌']!= 2019) & (df['시즌']!= 2020)].drop('시즌', axis=1)).astype(np.float32)\n",
        "val_data= np.asarray(df[df['시즌']==2019].drop('시즌', axis=1)).astype(np.float32)\n",
        "test_data= np.asarray(df[df['시즌']==2020].drop('시즌', axis=1)).astype(np.float32)"
      ],
      "execution_count": null,
      "outputs": []
    },
    {
      "cell_type": "code",
      "metadata": {
        "id": "LtlCoTjPc8of",
        "colab_type": "code",
        "colab": {
          "base_uri": "https://localhost:8080/",
          "height": 70
        },
        "outputId": "8052e623-e3b4-4008-cfc9-fa8505ff3d1f"
      },
      "source": [
        "print(\"shape of train data: {}\".format(train_data.shape))\n",
        "print(\"shape of val data: {}\".format(val_data.shape))\n",
        "print(\"shape of test data: {}\".format(test_data.shape))"
      ],
      "execution_count": null,
      "outputs": [
        {
          "output_type": "stream",
          "text": [
            "shape of train data: (432, 11)\n",
            "shape of val data: (144, 11)\n",
            "shape of test data: (63, 11)\n"
          ],
          "name": "stdout"
        }
      ]
    },
    {
      "cell_type": "code",
      "metadata": {
        "id": "6bzf8b-LH52G",
        "colab_type": "code",
        "colab": {}
      },
      "source": [
        "def make_dataset(data, seq_length=5, target_delay=0, strides=1):\n",
        "    sequence = []\n",
        "    target = []\n",
        "    for index in range(len(data) - seq_length - target_delay):\n",
        "        if index % strides == 0:\n",
        "          sequence.append(data[index:index+seq_length])\n",
        "          target.append(data[index+seq_length+target_delay][-1])\n",
        "    return np.array(sequence), np.array(target)"
      ],
      "execution_count": null,
      "outputs": []
    },
    {
      "cell_type": "code",
      "metadata": {
        "id": "DhMZvokQH9Hl",
        "colab_type": "code",
        "colab": {}
      },
      "source": [
        "train_sequences, train_labels = make_dataset(train_data)\n",
        "val_sequences, val_labels = make_dataset(val_data)\n",
        "test_sequences, test_labels = make_dataset(test_data)"
      ],
      "execution_count": null,
      "outputs": []
    },
    {
      "cell_type": "code",
      "metadata": {
        "id": "3LtZ5um-H_Hv",
        "colab_type": "code",
        "colab": {}
      },
      "source": [
        "train_dataset = tf.data.Dataset.from_tensor_slices((train_sequences, train_labels))\n",
        "train_dataset = train_dataset.batch(batch_size)\n",
        "train_dataset = train_dataset.repeat()"
      ],
      "execution_count": null,
      "outputs": []
    },
    {
      "cell_type": "code",
      "metadata": {
        "id": "KUpAOKAE5IbB",
        "colab_type": "code",
        "colab": {}
      },
      "source": [
        "val_dataset = tf.data.Dataset.from_tensor_slices((val_sequences, val_labels))\n",
        "val_dataset = val_dataset.batch(batch_size)\n",
        "val_dataset = val_dataset.repeat()"
      ],
      "execution_count": null,
      "outputs": []
    },
    {
      "cell_type": "code",
      "metadata": {
        "id": "q0XbVnnXIBdh",
        "colab_type": "code",
        "colab": {}
      },
      "source": [
        "test_dataset = tf.data.Dataset.from_tensor_slices((test_sequences, test_labels))\n",
        "test_dataset = test_dataset.batch(batch_size)"
      ],
      "execution_count": null,
      "outputs": []
    },
    {
      "cell_type": "code",
      "metadata": {
        "id": "bspRnM5qIXJg",
        "colab_type": "code",
        "colab": {}
      },
      "source": [
        "model = tf.keras.Sequential()"
      ],
      "execution_count": null,
      "outputs": []
    },
    {
      "cell_type": "code",
      "metadata": {
        "id": "klhybxP4JDc5",
        "colab_type": "code",
        "colab": {}
      },
      "source": [
        "num_layers = len(hidden_sizes)\n",
        "for i in range(num_layers - 1):\n",
        "    model.add(tf.keras.layers.LSTM(128,return_sequences=True, kernel_regularizer=tf.keras.regularizers.l2(0.001),dropout=0.2))\n",
        "    model.add(tf.keras.layers.LSTM(64,return_sequences=False,kernel_regularizer=tf.keras.regularizers.l2(0.001),dropout=0.2))\n",
        "    model.add(tf.keras.layers.Dense(1, activation = 'sigmoid'))"
      ],
      "execution_count": null,
      "outputs": []
    },
    {
      "cell_type": "code",
      "metadata": {
        "id": "6zd1SbU5aaSv",
        "colab_type": "code",
        "colab": {}
      },
      "source": [
        "model.compile(optimizer=tf.keras.optimizers.SGD(lr=0.01) ,loss='binary_crossentropy',metrics=['binary_accuracy'])"
      ],
      "execution_count": null,
      "outputs": []
    },
    {
      "cell_type": "code",
      "metadata": {
        "id": "85cKfb48NiGy",
        "colab_type": "code",
        "colab": {
          "base_uri": "https://localhost:8080/",
          "height": 70
        },
        "outputId": "e4cf9fd1-5854-402d-edff-71cf174baa2b"
      },
      "source": [
        "loss, acc = model.evaluate(test_sequences, test_labels)\n",
        "print(\"학습 전 모델의 loss: {:.5f}\".format(loss))\n",
        "print(\"학습 전 모델의 정확도: {:5.2f}%\".format(100*acc))"
      ],
      "execution_count": null,
      "outputs": [
        {
          "output_type": "stream",
          "text": [
            "2/2 [==============================] - 0s 3ms/step - loss: 0.8850 - binary_accuracy: 0.4655\n",
            "학습 전 모델의 loss: 0.88504\n",
            "학습 전 모델의 정확도: 46.55%\n"
          ],
          "name": "stdout"
        }
      ]
    },
    {
      "cell_type": "code",
      "metadata": {
        "id": "4ySNDp4Saf0V",
        "colab_type": "code",
        "colab": {}
      },
      "source": [
        "checkpoint_path = './checkpoint_z_score/cp.ckpt'\n",
        "checkpoint_dir = os.path.dirname(checkpoint_path)\n",
        "checkpoint = tf.keras.callbacks.ModelCheckpoint(checkpoint_path,\n",
        "                             save_best_only=True,\n",
        "                             save_weights_only=True,\n",
        "                             verbose=1\n",
        "                            )"
      ],
      "execution_count": null,
      "outputs": []
    },
    {
      "cell_type": "code",
      "metadata": {
        "id": "dlrLTO5RatOl",
        "colab_type": "code",
        "colab": {
          "base_uri": "https://localhost:8080/",
          "height": 1000
        },
        "outputId": "99b8d28f-9d3b-4a1e-be99-fda292d80c7c"
      },
      "source": [
        "model.fit(train_dataset, steps_per_epoch = train_data.shape[1]/batch_size, \n",
        "          validation_data = val_dataset, \n",
        "          validation_steps= val_data.shape[1]/batch_size,\n",
        "          epochs= max_epochs,\n",
        "          callbacks= [checkpoint])"
      ],
      "execution_count": null,
      "outputs": [
        {
          "output_type": "stream",
          "text": [
            "Epoch 1/30\n",
            "1/1 [=======================>......] - ETA: 0s - loss: 0.8801 - binary_accuracy: 0.5556\n",
            "Epoch 00001: val_loss improved from inf to 0.89354, saving model to ./checkpoint_z_score/cp.ckpt\n",
            "2/1 [=================================================] - 0s 30ms/step - loss: 0.8830 - binary_accuracy: 0.5000 - val_loss: 0.8935 - val_binary_accuracy: 0.4444\n",
            "Epoch 2/30\n",
            "1/1 [=======================>......] - ETA: 0s - loss: 0.8575 - binary_accuracy: 0.8889\n",
            "Epoch 00002: val_loss improved from 0.89354 to 0.89288, saving model to ./checkpoint_z_score/cp.ckpt\n",
            "2/1 [=================================================] - 0s 36ms/step - loss: 0.8651 - binary_accuracy: 0.7778 - val_loss: 0.8929 - val_binary_accuracy: 0.3889\n",
            "Epoch 3/30\n",
            "1/1 [=======================>......] - ETA: 0s - loss: 0.8740 - binary_accuracy: 0.6667\n",
            "Epoch 00003: val_loss improved from 0.89288 to 0.89184, saving model to ./checkpoint_z_score/cp.ckpt\n",
            "2/1 [=================================================] - 0s 35ms/step - loss: 0.8662 - binary_accuracy: 0.8333 - val_loss: 0.8918 - val_binary_accuracy: 0.4444\n",
            "Epoch 4/30\n",
            "1/1 [=======================>......] - ETA: 0s - loss: 0.8800 - binary_accuracy: 0.5556\n",
            "Epoch 00004: val_loss improved from 0.89184 to 0.89172, saving model to ./checkpoint_z_score/cp.ckpt\n",
            "2/1 [=================================================] - 0s 79ms/step - loss: 0.8740 - binary_accuracy: 0.6667 - val_loss: 0.8917 - val_binary_accuracy: 0.4444\n",
            "Epoch 5/30\n",
            "1/1 [=======================>......] - ETA: 0s - loss: 0.8769 - binary_accuracy: 0.6667\n",
            "Epoch 00005: val_loss improved from 0.89172 to 0.89145, saving model to ./checkpoint_z_score/cp.ckpt\n",
            "2/1 [=================================================] - 0s 31ms/step - loss: 0.8844 - binary_accuracy: 0.5556 - val_loss: 0.8915 - val_binary_accuracy: 0.4444\n",
            "Epoch 6/30\n",
            "1/1 [=======================>......] - ETA: 0s - loss: 0.8861 - binary_accuracy: 0.5556\n",
            "Epoch 00006: val_loss did not improve from 0.89145\n",
            "2/1 [=================================================] - 0s 9ms/step - loss: 0.8852 - binary_accuracy: 0.6111 - val_loss: 0.8915 - val_binary_accuracy: 0.4444\n",
            "Epoch 7/30\n",
            "1/1 [=======================>......] - ETA: 0s - loss: 0.8846 - binary_accuracy: 0.4444\n",
            "Epoch 00007: val_loss improved from 0.89145 to 0.89136, saving model to ./checkpoint_z_score/cp.ckpt\n",
            "2/1 [=================================================] - 0s 27ms/step - loss: 0.8857 - binary_accuracy: 0.5000 - val_loss: 0.8914 - val_binary_accuracy: 0.4444\n",
            "Epoch 8/30\n",
            "1/1 [=======================>......] - ETA: 0s - loss: 0.8753 - binary_accuracy: 0.7778\n",
            "Epoch 00008: val_loss improved from 0.89136 to 0.89127, saving model to ./checkpoint_z_score/cp.ckpt\n",
            "2/1 [=================================================] - 0s 63ms/step - loss: 0.8820 - binary_accuracy: 0.6111 - val_loss: 0.8913 - val_binary_accuracy: 0.4444\n",
            "Epoch 9/30\n",
            "1/1 [=======================>......] - ETA: 0s - loss: 0.8779 - binary_accuracy: 0.5556\n",
            "Epoch 00009: val_loss improved from 0.89127 to 0.88993, saving model to ./checkpoint_z_score/cp.ckpt\n",
            "2/1 [=================================================] - 0s 28ms/step - loss: 0.8820 - binary_accuracy: 0.5000 - val_loss: 0.8899 - val_binary_accuracy: 0.4444\n",
            "Epoch 10/30\n",
            "1/1 [=======================>......] - ETA: 0s - loss: 0.8819 - binary_accuracy: 0.5556\n",
            "Epoch 00010: val_loss did not improve from 0.88993\n",
            "2/1 [=================================================] - 0s 8ms/step - loss: 0.8821 - binary_accuracy: 0.5000 - val_loss: 0.8899 - val_binary_accuracy: 0.4444\n",
            "Epoch 11/30\n",
            "1/1 [=======================>......] - ETA: 0s - loss: 0.8876 - binary_accuracy: 0.5556\n",
            "Epoch 00011: val_loss improved from 0.88993 to 0.88933, saving model to ./checkpoint_z_score/cp.ckpt\n",
            "2/1 [=================================================] - 0s 29ms/step - loss: 0.8755 - binary_accuracy: 0.6667 - val_loss: 0.8893 - val_binary_accuracy: 0.4444\n",
            "Epoch 12/30\n",
            "1/1 [=======================>......] - ETA: 0s - loss: 0.8917 - binary_accuracy: 0.5556\n",
            "Epoch 00012: val_loss improved from 0.88933 to 0.88896, saving model to ./checkpoint_z_score/cp.ckpt\n",
            "2/1 [=================================================] - 0s 66ms/step - loss: 0.8819 - binary_accuracy: 0.6111 - val_loss: 0.8890 - val_binary_accuracy: 0.4444\n",
            "Epoch 13/30\n",
            "1/1 [=======================>......] - ETA: 0s - loss: 0.8888 - binary_accuracy: 0.3333\n",
            "Epoch 00013: val_loss improved from 0.88896 to 0.88894, saving model to ./checkpoint_z_score/cp.ckpt\n",
            "2/1 [=================================================] - 0s 30ms/step - loss: 0.8822 - binary_accuracy: 0.5556 - val_loss: 0.8889 - val_binary_accuracy: 0.4444\n",
            "Epoch 14/30\n",
            "1/1 [=======================>......] - ETA: 0s - loss: 0.8869 - binary_accuracy: 0.3333\n",
            "Epoch 00014: val_loss did not improve from 0.88894\n",
            "2/1 [=================================================] - 0s 8ms/step - loss: 0.9009 - binary_accuracy: 0.2778 - val_loss: 0.8891 - val_binary_accuracy: 0.4444\n",
            "Epoch 15/30\n",
            "1/1 [=======================>......] - ETA: 0s - loss: 0.8733 - binary_accuracy: 0.6667\n",
            "Epoch 00015: val_loss did not improve from 0.88894\n",
            "2/1 [=================================================] - 0s 9ms/step - loss: 0.8754 - binary_accuracy: 0.6111 - val_loss: 0.8890 - val_binary_accuracy: 0.4444\n",
            "Epoch 16/30\n",
            "1/1 [=======================>......] - ETA: 0s - loss: 0.9004 - binary_accuracy: 0.2222\n",
            "Epoch 00016: val_loss improved from 0.88894 to 0.88885, saving model to ./checkpoint_z_score/cp.ckpt\n",
            "2/1 [=================================================] - 0s 27ms/step - loss: 0.8787 - binary_accuracy: 0.5000 - val_loss: 0.8888 - val_binary_accuracy: 0.4444\n",
            "Epoch 17/30\n",
            "1/1 [=======================>......] - ETA: 0s - loss: 0.8699 - binary_accuracy: 0.4444\n",
            "Epoch 00017: val_loss did not improve from 0.88885\n",
            "2/1 [=================================================] - 0s 11ms/step - loss: 0.8772 - binary_accuracy: 0.4444 - val_loss: 0.8893 - val_binary_accuracy: 0.4444\n",
            "Epoch 18/30\n",
            "1/1 [=======================>......] - ETA: 0s - loss: 0.8822 - binary_accuracy: 0.6667\n",
            "Epoch 00018: val_loss did not improve from 0.88885\n",
            "2/1 [=================================================] - 0s 9ms/step - loss: 0.8825 - binary_accuracy: 0.6667 - val_loss: 0.8899 - val_binary_accuracy: 0.4444\n",
            "Epoch 19/30\n",
            "1/1 [=======================>......] - ETA: 0s - loss: 0.8654 - binary_accuracy: 0.8889\n",
            "Epoch 00019: val_loss did not improve from 0.88885\n",
            "2/1 [=================================================] - 0s 9ms/step - loss: 0.8648 - binary_accuracy: 0.8333 - val_loss: 0.8921 - val_binary_accuracy: 0.4444\n",
            "Epoch 20/30\n",
            "1/1 [=======================>......] - ETA: 0s - loss: 0.8812 - binary_accuracy: 0.5556\n",
            "Epoch 00020: val_loss did not improve from 0.88885\n",
            "2/1 [=================================================] - 0s 9ms/step - loss: 0.8804 - binary_accuracy: 0.5556 - val_loss: 0.8922 - val_binary_accuracy: 0.4444\n",
            "Epoch 21/30\n",
            "1/1 [=======================>......] - ETA: 0s - loss: 0.8723 - binary_accuracy: 0.7778\n",
            "Epoch 00021: val_loss did not improve from 0.88885\n",
            "2/1 [=================================================] - 0s 8ms/step - loss: 0.8849 - binary_accuracy: 0.5000 - val_loss: 0.8925 - val_binary_accuracy: 0.4444\n",
            "Epoch 22/30\n",
            "1/1 [=======================>......] - ETA: 0s - loss: 0.8800 - binary_accuracy: 0.5556\n",
            "Epoch 00022: val_loss did not improve from 0.88885\n",
            "2/1 [=================================================] - 0s 8ms/step - loss: 0.8807 - binary_accuracy: 0.6111 - val_loss: 0.8922 - val_binary_accuracy: 0.4444\n",
            "Epoch 23/30\n",
            "1/1 [=======================>......] - ETA: 0s - loss: 0.8879 - binary_accuracy: 0.6667\n",
            "Epoch 00023: val_loss did not improve from 0.88885\n",
            "2/1 [=================================================] - 0s 8ms/step - loss: 0.8901 - binary_accuracy: 0.5556 - val_loss: 0.8921 - val_binary_accuracy: 0.4444\n",
            "Epoch 24/30\n",
            "1/1 [=======================>......] - ETA: 0s - loss: 0.8932 - binary_accuracy: 0.2222\n",
            "Epoch 00024: val_loss did not improve from 0.88885\n",
            "2/1 [=================================================] - 0s 8ms/step - loss: 0.8889 - binary_accuracy: 0.3846 - val_loss: 0.8932 - val_binary_accuracy: 0.4444\n",
            "Epoch 25/30\n",
            "1/1 [=======================>......] - ETA: 0s - loss: 0.8825 - binary_accuracy: 0.4444\n",
            "Epoch 00025: val_loss did not improve from 0.88885\n",
            "2/1 [=================================================] - 0s 8ms/step - loss: 0.8760 - binary_accuracy: 0.5000 - val_loss: 0.8932 - val_binary_accuracy: 0.3889\n",
            "Epoch 26/30\n",
            "1/1 [=======================>......] - ETA: 0s - loss: 0.8690 - binary_accuracy: 0.6667\n",
            "Epoch 00026: val_loss did not improve from 0.88885\n",
            "2/1 [=================================================] - 0s 8ms/step - loss: 0.8715 - binary_accuracy: 0.7222 - val_loss: 0.8927 - val_binary_accuracy: 0.3889\n",
            "Epoch 27/30\n",
            "1/1 [=======================>......] - ETA: 0s - loss: 0.8683 - binary_accuracy: 0.7778\n",
            "Epoch 00027: val_loss did not improve from 0.88885\n",
            "2/1 [=================================================] - 0s 8ms/step - loss: 0.8607 - binary_accuracy: 0.8889 - val_loss: 0.8917 - val_binary_accuracy: 0.4444\n",
            "Epoch 28/30\n",
            "1/1 [=======================>......] - ETA: 0s - loss: 0.8773 - binary_accuracy: 0.6667\n",
            "Epoch 00028: val_loss did not improve from 0.88885\n",
            "2/1 [=================================================] - 0s 8ms/step - loss: 0.8808 - binary_accuracy: 0.6111 - val_loss: 0.8915 - val_binary_accuracy: 0.4444\n",
            "Epoch 29/30\n",
            "1/1 [=======================>......] - ETA: 0s - loss: 0.8741 - binary_accuracy: 0.6667\n",
            "Epoch 00029: val_loss did not improve from 0.88885\n",
            "2/1 [=================================================] - 0s 8ms/step - loss: 0.8848 - binary_accuracy: 0.5556 - val_loss: 0.8913 - val_binary_accuracy: 0.4444\n",
            "Epoch 30/30\n",
            "1/1 [=======================>......] - ETA: 0s - loss: 0.8840 - binary_accuracy: 0.4444\n",
            "Epoch 00030: val_loss did not improve from 0.88885\n",
            "2/1 [=================================================] - 0s 9ms/step - loss: 0.8906 - binary_accuracy: 0.4444 - val_loss: 0.8913 - val_binary_accuracy: 0.4444\n"
          ],
          "name": "stdout"
        },
        {
          "output_type": "execute_result",
          "data": {
            "text/plain": [
              "<tensorflow.python.keras.callbacks.History at 0x7ff2c02297b8>"
            ]
          },
          "metadata": {
            "tags": []
          },
          "execution_count": 245
        }
      ]
    },
    {
      "cell_type": "code",
      "metadata": {
        "id": "UpqH2Bmtgvqi",
        "colab_type": "code",
        "colab": {
          "base_uri": "https://localhost:8080/",
          "height": 193
        },
        "outputId": "795dede0-0f62-4e80-c27e-b39bd32d63ab"
      },
      "source": [
        "for sequences, targets in train_dataset.take(1):\n",
        "    outputs = model(sequences)\n",
        "    print(outputs)"
      ],
      "execution_count": null,
      "outputs": [
        {
          "output_type": "stream",
          "text": [
            "tf.Tensor(\n",
            "[[0.4519733 ]\n",
            " [0.48965803]\n",
            " [0.48364684]\n",
            " [0.4783963 ]\n",
            " [0.4775293 ]\n",
            " [0.4925512 ]\n",
            " [0.49176925]\n",
            " [0.49237034]\n",
            " [0.4868963 ]], shape=(9, 1), dtype=float32)\n"
          ],
          "name": "stdout"
        }
      ]
    },
    {
      "cell_type": "code",
      "metadata": {
        "id": "w4Hp4cEigx7r",
        "colab_type": "code",
        "colab": {
          "base_uri": "https://localhost:8080/",
          "height": 34
        },
        "outputId": "43dcb92f-afb0-4bbe-e9a0-8fec84cfffe8"
      },
      "source": [
        "model.load_weights(tf.train.latest_checkpoint(checkpoint_dir))"
      ],
      "execution_count": null,
      "outputs": [
        {
          "output_type": "execute_result",
          "data": {
            "text/plain": [
              "<tensorflow.python.training.tracking.util.CheckpointLoadStatus at 0x7ff2bf7a5d68>"
            ]
          },
          "metadata": {
            "tags": []
          },
          "execution_count": 247
        }
      ]
    },
    {
      "cell_type": "code",
      "metadata": {
        "id": "oCOGoY41g0A4",
        "colab_type": "code",
        "colab": {
          "base_uri": "https://localhost:8080/",
          "height": 34
        },
        "outputId": "2306d1e5-cd9e-489a-a2ff-b0aec56b803d"
      },
      "source": [
        "_, test_loss = model.evaluate(test_dataset, steps=len(test_sequences)/batch_size)"
      ],
      "execution_count": null,
      "outputs": [
        {
          "output_type": "stream",
          "text": [
            "7/6 [================================] - 0s 3ms/step - loss: 0.8771 - binary_accuracy: 0.6034\n"
          ],
          "name": "stdout"
        }
      ]
    },
    {
      "cell_type": "code",
      "metadata": {
        "id": "5Bkb1P1h9FT2",
        "colab_type": "code",
        "colab": {
          "base_uri": "https://localhost:8080/",
          "height": 70
        },
        "outputId": "86beb7a8-50dc-45b4-d97d-8d048680964b"
      },
      "source": [
        "loss, acc = model.evaluate(test_sequences, test_labels)\n",
        "print(\"학습 후 모델의 loss: {:.5f}\".format(loss))\n",
        "print(\"학습 후 모델의 정확도: {:5.2f}%\".format(100*acc))"
      ],
      "execution_count": null,
      "outputs": [
        {
          "output_type": "stream",
          "text": [
            "2/2 [==============================] - 0s 4ms/step - loss: 0.8771 - binary_accuracy: 0.6034\n",
            "학습 후 모델의 loss: 0.87711\n",
            "학습 후 모델의 정확도: 60.34%\n"
          ],
          "name": "stdout"
        }
      ]
    }
  ]
}